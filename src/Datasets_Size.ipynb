{
 "cells": [
  {
   "cell_type": "code",
   "execution_count": 3,
   "id": "44a1d0f1",
   "metadata": {},
   "outputs": [],
   "source": [
    "import pandas as pd\n",
    "import json"
   ]
  },
  {
   "cell_type": "code",
   "execution_count": 4,
   "id": "64c50ac8",
   "metadata": {},
   "outputs": [],
   "source": [
    "PATH_GSM8K_TRAIN = '../datasets/gsm8k/train.jsonl'\n",
    "PATH_GSM8K_TEST = '../datasets/gsm8k/test.jsonl'\n",
    "PATH_AQUA_TRAIN = '../datasets/AQuA/train.json'\n",
    "PATH_AQUA_TEST = '../datasets/AQuA/test.json'"
   ]
  },
  {
   "cell_type": "code",
   "execution_count": 5,
   "id": "578fee00",
   "metadata": {},
   "outputs": [],
   "source": [
    "with open(PATH_AQUA_TRAIN) as fh:\n",
    "    aqua_train = [json.loads(line) for line in fh.readlines() if line]\n",
    "    \n",
    "with open(PATH_AQUA_TEST) as fh:\n",
    "    aqua_test = [json.loads(line) for line in fh.readlines() if line]\n",
    "    \n",
    "with open(PATH_GSM8K_TRAIN) as fh:\n",
    "    gsm8k_train = [json.loads(line) for line in fh.readlines() if line]\n",
    "    \n",
    "with open(PATH_GSM8K_TEST) as fh:\n",
    "    gsm8k_test = [json.loads(line) for line in fh.readlines() if line]"
   ]
  },
  {
   "cell_type": "code",
   "execution_count": 8,
   "id": "3f0562d9",
   "metadata": {},
   "outputs": [
    {
     "data": {
      "text/plain": [
       "{'question': 'Natalia sold clips to 48 of her friends in April, and then she sold half as many clips in May. How many clips did Natalia sell altogether in April and May?',\n",
       " 'answer': 'Natalia sold 48/2 = <<48/2=24>>24 clips in May.\\nNatalia sold 48+24 = <<48+24=72>>72 clips altogether in April and May.\\n#### 72'}"
      ]
     },
     "execution_count": 8,
     "metadata": {},
     "output_type": "execute_result"
    }
   ],
   "source": [
    "gsm8k_train[0]"
   ]
  },
  {
   "cell_type": "code",
   "execution_count": 6,
   "id": "6ac194c1",
   "metadata": {},
   "outputs": [
    {
     "data": {
      "text/plain": [
       "97467"
      ]
     },
     "execution_count": 6,
     "metadata": {},
     "output_type": "execute_result"
    }
   ],
   "source": [
    "len(aqua_train)"
   ]
  },
  {
   "cell_type": "code",
   "execution_count": 5,
   "id": "4cb3b21c",
   "metadata": {},
   "outputs": [
    {
     "data": {
      "text/plain": [
       "254"
      ]
     },
     "execution_count": 5,
     "metadata": {},
     "output_type": "execute_result"
    }
   ],
   "source": [
    "len(aqua_test)"
   ]
  },
  {
   "cell_type": "code",
   "execution_count": 6,
   "id": "bfb7986b",
   "metadata": {},
   "outputs": [
    {
     "data": {
      "text/plain": [
       "7473"
      ]
     },
     "execution_count": 6,
     "metadata": {},
     "output_type": "execute_result"
    }
   ],
   "source": [
    "len(gsm8k_train)"
   ]
  },
  {
   "cell_type": "code",
   "execution_count": 7,
   "id": "3a390ee7",
   "metadata": {},
   "outputs": [
    {
     "data": {
      "text/plain": [
       "1319"
      ]
     },
     "execution_count": 7,
     "metadata": {},
     "output_type": "execute_result"
    }
   ],
   "source": [
    "len(gsm8k_test)"
   ]
  },
  {
   "cell_type": "code",
   "execution_count": 9,
   "id": "abb2aceb",
   "metadata": {},
   "outputs": [
    {
     "data": {
      "text/plain": [
       "{'question': 'Natalia sold clips to 48 of her friends in April, and then she sold half as many clips in May. How many clips did Natalia sell altogether in April and May?',\n",
       " 'answer': 'Natalia sold 48/2 = <<48/2=24>>24 clips in May.\\nNatalia sold 48+24 = <<48+24=72>>72 clips altogether in April and May.\\n#### 72'}"
      ]
     },
     "execution_count": 9,
     "metadata": {},
     "output_type": "execute_result"
    }
   ],
   "source": [
    "gsm8k_train[0]"
   ]
  },
  {
   "cell_type": "code",
   "execution_count": null,
   "id": "2c3016c1",
   "metadata": {},
   "outputs": [],
   "source": []
  }
 ],
 "metadata": {
  "kernelspec": {
   "display_name": "Python 3 (ipykernel)",
   "language": "python",
   "name": "python3"
  },
  "language_info": {
   "codemirror_mode": {
    "name": "ipython",
    "version": 3
   },
   "file_extension": ".py",
   "mimetype": "text/x-python",
   "name": "python",
   "nbconvert_exporter": "python",
   "pygments_lexer": "ipython3",
   "version": "3.9.16"
  }
 },
 "nbformat": 4,
 "nbformat_minor": 5
}
