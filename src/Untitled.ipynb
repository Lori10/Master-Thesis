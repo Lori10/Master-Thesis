{
 "cells": [
  {
   "cell_type": "code",
   "execution_count": 41,
   "id": "24fdd0e5",
   "metadata": {},
   "outputs": [
    {
     "name": "stdout",
     "output_type": "stream",
     "text": [
      "The autoreload extension is already loaded. To reload it, use:\n",
      "  %reload_ext autoreload\n"
     ]
    }
   ],
   "source": [
    "%load_ext autoreload\n",
    "%autoreload 2"
   ]
  },
  {
   "cell_type": "code",
   "execution_count": 4,
   "id": "a6dcab1e",
   "metadata": {},
   "outputs": [],
   "source": [
    "from load_datasets import load_strategyqa, load_gsm8k\n",
    "from tqdm import tqdm\n",
    "import re\n",
    "import pickle\n",
    "import numpy as np\n",
    "from langchain.agents import initialize_agent\n",
    "from copy import deepcopy\n",
    "from langchain.agents import AgentType\n",
    "from langchain.llms import OpenAI\n",
    "import os"
   ]
  },
  {
   "cell_type": "code",
   "execution_count": 43,
   "id": "5e96c39f",
   "metadata": {},
   "outputs": [],
   "source": [
    "with open('VectorStore/embeddings.pkl', \"rb\") as f:\n",
    "    docs = pickle.load(f)"
   ]
  },
  {
   "cell_type": "code",
   "execution_count": 4,
   "id": "46149378",
   "metadata": {
    "scrolled": true
   },
   "outputs": [
    {
     "name": "stdout",
     "output_type": "stream",
     "text": [
      "9251\n"
     ]
    }
   ],
   "source": [
    "print(len(docs.docs))"
   ]
  },
  {
   "cell_type": "code",
   "execution_count": 5,
   "id": "5093844a",
   "metadata": {},
   "outputs": [
    {
     "data": {
      "text/plain": [
       "array([1])"
      ]
     },
     "execution_count": 5,
     "metadata": {},
     "output_type": "execute_result"
    }
   ],
   "source": [
    "np.unique([len(value['texts']) for key, value in docs.docs.items()])"
   ]
  },
  {
   "cell_type": "code",
   "execution_count": 5,
   "id": "c9a6bf8d",
   "metadata": {},
   "outputs": [],
   "source": [
    "PATH = '../datasets/grade_school_math/data/train.jsonl'\n",
    "train_data = load_gsm8k(PATH)\n"
   ]
  },
  {
   "cell_type": "code",
   "execution_count": 6,
   "id": "10452697",
   "metadata": {},
   "outputs": [
    {
     "data": {
      "text/plain": [
       "{'question': 'Natalia sold clips to 48 of her friends in April, and then she sold half as many clips in May. How many clips did Natalia sell altogether in April and May?',\n",
       " 'answer': 'Natalia sold 48/2 = <<48/2=24>>24 clips in May.\\nNatalia sold 48+24 = <<48+24=72>>72 clips altogether in April and May.\\n#### 72'}"
      ]
     },
     "execution_count": 6,
     "metadata": {},
     "output_type": "execute_result"
    }
   ],
   "source": [
    "train_data[0]"
   ]
  },
  {
   "cell_type": "code",
   "execution_count": 21,
   "id": "9e9b7ed8",
   "metadata": {},
   "outputs": [],
   "source": [
    "os.environ[\"BING_SUBSCRIPTION_KEY\"] = \"2075a41e8bd2447eae6595b3d4230ff8\"\n",
    "os.environ[\"BING_SEARCH_URL\"] = \"https://api.bing.microsoft.com/v7.0/search\"\n",
    "\n",
    "llm = OpenAI(temperature=0)\n",
    "tools = [BingSearchTool(docs)]\n",
    "self_ask_with_search_agent = initialize_agent(tools, llm, agent=AgentType.SELF_ASK_WITH_SEARCH, verbose=True,\n",
    "                                              max_iterations=4)\n",
    "my_agent = deepcopy(self_ask_with_search_agent)\n",
    "\n",
    "with open('prompts/strategyqa_prompt_cot_new.txt', 'r') as file:\n",
    "    content = file.read()\n",
    "\n",
    "add_template = 'You are willing to answer questions that require reasoning. The final answer should be either \"Yes\" or \"No\". You must generate at least 2 follow up questions before generating the final answer. Follow the format of the examples below.\\n'\n",
    "fewshot = content.replace('Question', 'question').replace('Answer', 'answer')\n",
    "preprocessed_fewshot = re.sub(r'Sub answer\\s#\\d+ :', 'Intermediate answer:', re.sub(r'Sub question\\s#\\d+ :', 'Follow up:', fewshot)).replace('question:', 'Question:').replace('Final answer:', 'So the final answer is:')\n",
    "output_parser = 'Question: {input}\\nOutput:{agent_scratchpad}'\n",
    "my_agent.agent.llm_chain.prompt.template = add_template + preprocessed_fewshot + output_parser"
   ]
  },
  {
   "cell_type": "code",
   "execution_count": 22,
   "id": "6b4d5b57",
   "metadata": {},
   "outputs": [
    {
     "name": "stdout",
     "output_type": "stream",
     "text": [
      "You are willing to answer questions that require reasoning. The final answer should be either \"Yes\" or \"No\". You must generate at least 2 follow up questions before generating the final answer. Follow the format of the examples below.\n",
      "\n",
      "[Example 1]\n",
      "Question: Do hamsters provide food for any animals?\n",
      "Output:\n",
      "Follow up: What type of animals are hamsters?\n",
      "Intermediate answer: Hamsters are prey animals.\n",
      "Follow up: Can prey animals be food for other animals?\n",
      "Intermediate answer: Prey are food for predators.\n",
      "So the final answer is: Since hamsters are prey animals, and prey are food for predetors, hamsters provide food for some animals, the answer is YES.\n",
      "\n",
      "[Example 2]\n",
      "Question: Could Brooke Shields succeed at University of Pennsylvania?\n",
      "Output:\n",
      "Follow up: What university did Brooke Shields went to?\n",
      "Intermediate answer: Brooke Shields went to Princeton University.\n",
      "Follow up: Did Brooke Shields succeed at Princeton University?\n",
      "Intermediate answer: At Princeton University, she got all As and Bs while pursing her bachelor's degree in French literature, meaning she had a successful school life.\n",
      "Follow up: How rigorous is Princeton University compared to University of Pennsylvania?\n",
      "Intermediate answer: Princeton University is about as academically rigorous as the University of Pennsylvania because they have a similar ranking according to U.S. News Rankings.\n",
      "So the final answer is: Since University of Pennsylvania and University of Princeton are in similar circumstances, Brooke Shields has been successful in University of Princeton, Brooke Shields could also succeed at the University of Pennsylvania, the answer is YES.\n",
      "\n",
      "[Example 3]\n",
      "Question: Hydrogen s atomic number squared exceeds number of Spice Girls?\n",
      "Output:\n",
      "Follow up: What is the atomic number of Hydrogen?\n",
      "Intermediate answer: Hydrogen has an atomic number of 1.\n",
      "Follow up: What is 1 squared?\n",
      "Intermediate answer: 1 squared is 1.\n",
      "Follow up: How much Spice Girls are there?\n",
      "Intermediate answer: There are 5 Spice Girls.\n",
      "So the final answer is: Since Hydrogen's atomic number squared is 1, the number of Spice Girls are 5, and 1 is smaller than 5, Hydrogen s atomic number squared is less than the number of Spice Girls, the answer is NO.\n",
      "\n",
      "[Example 4]\n",
      "Question: Is it common to see frost during some college commencements?\n",
      "Output:\n",
      "Follow up: When does College commencement ceremonies usually happen?\n",
      "Intermediate answer: College commencement ceremonies can happen in December, May, and June.\n",
      "Follow up: Does it usually frost in December?\n",
      "Intermediate answer: December is in the winter, so there can be frost.\n",
      "So the final answer is: Since there can be frost in December and a college commencement are held in December, there could be frost at some commencements, the answer is YES.\n",
      "\n",
      "[Example 5]\n",
      "Question: Could a llama birth twice during War in Vietnam (1945-46)?\n",
      "Output:\n",
      "Follow up: How long was the Vietnam war?\n",
      "Intermediate answer: The War in Vietnam was 6 months.\n",
      "Follow up: How long is the gestation period?\n",
      "Intermediate answer: The gestation period for a llama is 11 months.\n",
      "Follow up: How long does it take for a llama to birth twice?\n",
      "Intermediate answer: Since the gestation period for a llama is 11 months, and 11 times 2 is 22, it will take 22 months.\n",
      "So the final answer is: Since it takes 22 months for a llama to birth twice, War in Vietnam was 6 months, and 22 is bigger than 6, llama could not give birth twice during the War in Vietnam, the answer is NO.\n",
      "\n",
      "[Example 6]\n",
      "Question: Would a pear sink in water?\n",
      "Output:\n",
      "Follow up: What is the density of a pear?\n",
      "Intermediate answer: The density of a pear is about 0.6g/cm3.\n",
      "Follow up: What is the density of water?\n",
      "Intermediate answer: The density of water is 1g/cm3.\n",
      "Follow up: Is the density of pear smaller than water?\n",
      "Intermediate answer: Since 0.6 is smaller than 1, the density of pear is smaller than water.\n",
      "Follow up: If the density of an object is less than water, what happens?\n",
      "Intermediate answer: Objects less dense than water float.\n",
      "So the final answer is: Since a pear has a smaller density than water, a pear would float, the answer is NO.\n",
      "\n",
      "Question: {input}\n",
      "Output:{agent_scratchpad}\n"
     ]
    }
   ],
   "source": [
    "print(my_agent.agent.llm_chain.prompt.template)"
   ]
  },
  {
   "cell_type": "code",
   "execution_count": 19,
   "id": "b38a5d13",
   "metadata": {},
   "outputs": [
    {
     "data": {
      "text/plain": [
       "{'qid': 'df84924c94e9e929ef10',\n",
       " 'term': 'Nancy Pelosi',\n",
       " 'description': '52nd speaker of the United States House of Representatives',\n",
       " 'question': 'Would Nancy Pelosi publicly denounce abortion?',\n",
       " 'answer': False,\n",
       " 'facts': ['Abortion is a topic that divides the Republican Party and the Democratic Party.',\n",
       "  'Nancy Pelosi is a Democrat and appeals to that base.',\n",
       "  'The Democratic base is largely pro-choice with abortion. '],\n",
       " 'decomposition': ['Which US political party does Nancy Pelosi identify with?',\n",
       "  'Do most people who identify with #1 oppose abortion?'],\n",
       " 'evidence': [[[['Nancy Pelosi-1']],\n",
       "   [['Democratic Party (United States)-3'], 'operation']],\n",
       "  [[['Nancy Pelosi-1']],\n",
       "   [['Democratic Party (United States)-3'], 'no_evidence']],\n",
       "  [[['Speaker of the United States House of Representatives-3']],\n",
       "   [['Democratic Party (United States)-70']]]]}"
      ]
     },
     "execution_count": 19,
     "metadata": {},
     "output_type": "execute_result"
    }
   ],
   "source": [
    "i = 15\n",
    "train_data[i]"
   ]
  },
  {
   "cell_type": "code",
   "execution_count": 23,
   "id": "73431fb5",
   "metadata": {},
   "outputs": [
    {
     "name": "stdout",
     "output_type": "stream",
     "text": [
      "\n",
      "\n",
      "\u001b[1m> Entering new AgentExecutor chain...\u001b[0m\n",
      "\u001b[32;1m\u001b[1;3m\n",
      "Follow up: What is Nancy Pelosi's political party?\u001b[0m\n",
      "\n",
      "Generated Search Query :             Nancy Pelosi AND political party\n",
      "Indexing Page : Nancy_Pelosi__How_she_rose_to_the_top___and_stayed_there___BBC\n",
      "Indexing Page : Nancy_Pelosi___Wikipedia\n",
      "Indexing Page : Nancy_Pelosi__How_she_rose_to_the_top___and_stayed_there\n",
      "Indexing Page : Nancy_Pelosi__39_s_Political_Party__Republican_or_Democrat____Celeb_Answers\n",
      "Indexing Page : Nancy_Pelosi_s_political_philosophy__explained___Vox\n"
     ]
    },
    {
     "name": "stderr",
     "output_type": "stream",
     "text": [
      "Retrying langchain.chat_models.openai.ChatOpenAI.completion_with_retry.<locals>._completion_with_retry in 1.0 seconds as it raised RateLimitError: The server had an error while processing your request. Sorry about that!.\n",
      "Retrying langchain.chat_models.openai.ChatOpenAI.completion_with_retry.<locals>._completion_with_retry in 1.0 seconds as it raised RateLimitError: The server had an error while processing your request. Sorry about that!.\n"
     ]
    },
    {
     "name": "stdout",
     "output_type": "stream",
     "text": [
      "\n",
      "Intermediate answer: \u001b[36;1m\u001b[1;3mQuestion: What is Nancy Pelosi's political party?\n",
      "\n",
      "Nancy Pelosi is a member of the Democratic Party (Nancy_Pelosi_2, Title2020).\n",
      "\n",
      "References\n",
      "\n",
      "1. (Titlea): Title: Nancy Pelosi&#39;s Political Party: Republican or Democrat? - Celeb Answers - Link: https://celebanswers.com/nancy-pelosis-political-party-republican-or-democrat/\n",
      "\n",
      "2. (Nancy_Pelosi_12): Nancy_Pelosi_12\n",
      "\n",
      "3. (Nancy_Pelosi_2): Nancy_Pelosi_2\n",
      "\n",
      "4. (Title2020): Title: Nancy Pelosi’s political philosophy, explained - Vox - Link: https://www.vox.com/policy-and-politics/2020/5/15/21247994/nancy-pelosi-democratic-party-molly-ball\n",
      "\n",
      "5. (Title): Title: Nancy Pelosi - Wikipedia - Link: https://en.wikipedia.org/wiki/Nancy_Pelosi\n",
      "\n",
      "Tokens Used: 9541 Cost: $0.02\u001b[0m\n",
      "\u001b[32;1m\u001b[1;3m\n",
      "Follow up: What is Nancy Pelosi's stance on abortion?\u001b[0m\n",
      "\n",
      "Generated Search Query : Nancy Pelosi AND abortion\n",
      "Indexing Page : WATCH__Speaker_Nancy_Pelosi_says_House_will_vote_to_codify_abortion____\n",
      "Indexing Page : Nancy_Pelosi_meets_Pope_Francis_in_Rome_as_abortion_debate_swirls_in_US____\n",
      "Indexing Page : Pelosi_honored_by_pro_abortion_rights_PAC___She_s_a_game_changer_\n",
      "Indexing Page : Pelosi_responds_to_archbishop_on_legal_abortion___God_has_given_us_a____\n",
      "Indexing Page : Nancy_Pelosi_says_abortion_bans___39_ignore_basic_morality__39____Fox_News\n"
     ]
    },
    {
     "name": "stderr",
     "output_type": "stream",
     "text": [
      "Retrying langchain.chat_models.openai.ChatOpenAI.completion_with_retry.<locals>._completion_with_retry in 1.0 seconds as it raised RateLimitError: The server had an error while processing your request. Sorry about that!.\n"
     ]
    },
    {
     "name": "stdout",
     "output_type": "stream",
     "text": [
      "\n",
      "Intermediate answer: \u001b[36;1m\u001b[1;3mQuestion: What is Nancy Pelosi's stance on abortion?\n",
      "\n",
      "Nancy Pelosi is a staunch supporter of abortion rights (Titlec). She has voted against the Partial-Birth Abortion Ban Act of 2003 and earlier attempts at similar bans, and voted against the criminalization of certain situations where a minor is transported across state lines for an abortion (Title). Pelosi has voted in favor of lifting the ban on privately funded abortions at overseas U.S. military facilities, in favor of an amendment that would repeal a provision forbidding servicewomen and dependents from getting an abortion in overseas military hospitals, and in favor of stripping the prohibition of funding for organizations working overseas that use their own funds to provide abortion services, or engage in advocacy related to abortion services (Title). She supports legal abortion and has brought the Women's Health Protection Act, which would override state abortion laws and allow for abortions in some cases throughout all nine months of pregnancy, up for a vote in the House (Title2490). Pelosi has defended congressional funding for Planned Parenthood, the nation's largest abortion provider, and vowed to defend the landmark abortion legalization case Roe v. Wade with \"every tool in our disposal\" (Titlec). She has been honored by EMILY's List, an abortion rights political action committee, for her support of progressive legislation during her tenure as the first female Speaker of the House (Title4007). Pelosi defended President Joe Biden's response to the recent Supreme Court decision that struck down the constitutionality of Roe v. Wade, stating that she has no question about this administration's support for a woman's right to choose (Titleb).\n",
      "\n",
      "References\n",
      "\n",
      "1. (Title): Title: Nancy Pelosi - Wikipedia - Link: https://en.wikipedia.org/wiki/Nancy_Pelosi\n",
      "\n",
      "2. (Titlec): Title: Nancy Pelosi says abortion bans &#39;ignore basic morality&#39; - Fox News - Link: https://www.foxnews.com/media/nancy-pelosi-abortion-basic-morality\n",
      "\n",
      "3. (Title2490): Title: Pelosi responds to archbishop on legal abortion: ‘God has given us a ... - Link: https://www.catholicnewsagency.com/news/249073/pelosi-responds-to-archbishop-on-legal-abortion-god-has-given-us-a-free-will\n",
      "\n",
      "4. (Title4007): Title: Pelosi honored by pro-abortion rights PAC: ‘She’s a game-changer’ - Link: https://thehill.com/homenews/4007804-pelosi-honored-by-pro-abortion-rights-pac-shes-a-game-changer/\n",
      "\n",
      "5. (Titleb): Title: WATCH: Speaker Nancy Pelosi says House will vote to codify abortion ... - Link: https://www.pbs.org/newshour/politics/watch-speaker-nancy-pelosi-says-house-will-vote-to-codify-abortion-rights-friday\n",
      "\n",
      "Tokens Used: 16103 Cost: $0.03\u001b[0m\n",
      "\u001b[32;1m\u001b[1;3m\n",
      "So the final answer is: Since Nancy Pelosi is a staunch supporter of abortion rights and has vowed to defend the landmark abortion legalization case Roe v. Wade with \"every tool in our disposal\", Nancy Pelosi would not publicly denounce abortion, the answer is NO.\u001b[0m\n",
      "\n",
      "\u001b[1m> Finished chain.\u001b[0m\n",
      "Since Nancy Pelosi is a staunch supporter of abortion rights and has vowed to defend the landmark abortion legalization case Roe v. Wade with \"every tool in our disposal\", Nancy Pelosi would not publicly denounce abortion, the answer is NO.\n"
     ]
    }
   ],
   "source": [
    "query = train_data[i]['question']\n",
    "answer = my_agent.run(query)\n",
    "print(answer)"
   ]
  },
  {
   "cell_type": "code",
   "execution_count": 8,
   "id": "a4037b60",
   "metadata": {},
   "outputs": [
    {
     "data": {
      "text/plain": [
       "<paperqa.docs.Docs at 0x1ed3072c190>"
      ]
     },
     "execution_count": 8,
     "metadata": {},
     "output_type": "execute_result"
    }
   ],
   "source": [
    "import pickle \n",
    "\n",
    "with open('VectorStore/embeddings.pkl', \"rb\") as f:\n",
    "    docs = pickle.load(f)\n",
    "\n",
    "docs"
   ]
  },
  {
   "cell_type": "code",
   "execution_count": 45,
   "id": "c8c19f45",
   "metadata": {},
   "outputs": [],
   "source": [
    "from paperqa_tool import PaperQATool"
   ]
  },
  {
   "cell_type": "code",
   "execution_count": 46,
   "id": "67d6a99e",
   "metadata": {},
   "outputs": [],
   "source": [
    "tool = PaperQATool(docs)"
   ]
  },
  {
   "cell_type": "code",
   "execution_count": 47,
   "id": "b9010fac",
   "metadata": {},
   "outputs": [],
   "source": [
    "os.environ[\"BING_SUBSCRIPTION_KEY\"] = \"2075a41e8bd2447eae6595b3d4230ff8\"\n",
    "os.environ[\"BING_SEARCH_URL\"] = \"https://api.bing.microsoft.com/v7.0/search\""
   ]
  },
  {
   "cell_type": "code",
   "execution_count": 28,
   "id": "ff03d151",
   "metadata": {},
   "outputs": [
    {
     "name": "stdout",
     "output_type": "stream",
     "text": [
      "\n",
      "\n",
      "Generated Search Query : harbor seals AND habitat\n",
      "This Page already in the Docs\n",
      "This Page already in the Docs\n",
      "This Page already in the Docs\n",
      "This Page already in the Docs\n",
      "\n",
      "Answer:\n",
      " Question: Where do harbor seals usually live?\n",
      "\n",
      "Harbor seals tend to be coastal and do not venture more than 20 km offshore. They may spend several days at sea and travel up to 50 km in search of feeding grounds. Resting sites may be both rugged, rocky coasts or sandy beaches. They frequently congregate in harbors, bays, sandy intertidal zones, and estuaries in pursuit of prey fish. They occasionally swim more than a hundred miles upstream into fresh water in large rivers in search of migratory fish like shad and likely salmon (Titlec). However, the provided context from the National Zoological Park__United_States__26 does not provide any additional information on where harbor seals usually live.\n",
      "\n",
      "References\n",
      "\n",
      "1. (Titlec): Title: Harbor seal - Wikipedia - Link: https://en.wikipedia.org/wiki/Harbor_seal\n",
      "\n",
      "2. (National_Zoological_Park__United_States__26): National_Zoological_Park__United_States__26\n",
      "\n",
      "Tokens Used: 5676 Cost: $0.01 \n",
      "\n",
      "\n",
      "Supporting evidence documents: \n",
      "\n",
      "Doc 1:\n",
      "('Titlec', 'Title: Harbor seal - Wikipedia - Link: https://en.wikipedia.org/wiki/Harbor_seal', 'Harbor seals tend to be coastal, not venturing more than 20 km offshore. They may spend several days at sea and travel up to 50 km in search of feeding grounds. Resting sites may be both rugged, rocky coasts or sandy beaches. They frequently congregate in harbors, bays, sandy intertidal zones, and estuaries in pursuit of prey fish. They occasionally swim more than a hundred miles upstream into fresh water in large rivers in search of migratory fish like shad and likely salmon.', '\\\\)\"), 1942) | [Ungava seals](/wiki/Ungava_seal\\n\"Ungava seal\") ([Lacs des Loups Marins](/wiki/Lacs_des_Loups_Marins \"Lacs des\\nLoups Marins\") seals) | found in eastern Canada in [fresh\\nwater](/wiki/Freshwater_seal \"Freshwater seal\")  \\n[![Harbor Seal with young\\npup.jpg](//upload.wikimedia.org/wikipedia/commons/thumb/b/b7/Harbor_Seal_with_young_pup.jpg/120px-\\nHarbor_Seal_with_young_pup.jpg)](/wiki/File:Harbor_Seal_with_young_pup.jpg) |\\n_P. v. richardsi_ (Gray, 1864) | Pacific common seals | western North America.  \\n[![Antur\\n1.jpg](//upload.wikimedia.org/wikipedia/commons/thumb/7/71/Antur_1.jpg/120px-\\nAntur_1.jpg)](/wiki/File:Antur_1.jpg) | _Phoca vitulina stejnegeri_ ([J. A.\\nAllen](/wiki/Joel_Asaph_Allen \"Joel Asaph Allen\"), 1902) | Insular seals |\\nEastern Asia. Currently not recognised as a separate subspecies, but part of\\n_P. v. ricardsi_[7]  \\n  \\n## Habitat and\\ndiet[[edit](/w/index.php?title=Harbor_seal&action=edit&section=4 \"Edit\\nsection: Habitat and diet\")]\\n\\n[![](//upload.wikimedia.org/wikipedia/commons/thumb/8/8c/Phoca_vitulina_%28harbor_seal%29.jpg/220px-\\nPhoca_vitulina_%28harbor_seal%29.jpg)](/wiki/File:Phoca_vitulina_\\\\(harbor_seal\\\\).jpg)\\n\\n[](/wiki/File:Phoca_vitulina_\\\\(harbor_seal\\\\).jpg \"Enlarge\")\\n\\nHarbor seals at [Point Lobos](/wiki/Point_Lobos \"Point Lobos\"), California\\n\\n[![](//upload.wikimedia.org/wikipedia/commons/thumb/1/11/Harbor_seal_in_Holyoke%2C_MA._Connecticut_River._01.jpg/196px-\\nHarbor_seal_in_Holyoke%2C_MA._Connecticut_River._01.jpg)](/wiki/File:Harbor_seal_in_Holyoke,_MA._Connecticut_River._01.jpg)\\n\\n[](/wiki/File:Harbor_seal_in_Holyoke,_MA._Connecticut_River._01.jpg \"Enlarge\")\\n\\nHarbor seal in the freshwater [Connecticut River](/wiki/Connecticut_River\\n\"Connecticut River\"), following the shad run\\n\\nHarbor seals prefer to frequent familiar resting sites. They may spend several\\ndays at sea and travel up to 50 km in search of feeding grounds, and will also\\nswim more than a hundred miles upstream into fresh water in large\\n[rivers](/wiki/River \"River\") in search of migratory fish like\\n[shad](/wiki/Shad \"Shad\") and likely [salmon](/wiki/Salmon \"Salmon\").[\\n_[citation needed](/wiki/Wikipedia:Citation_needed \"Wikipedia:Citation\\nneeded\")_ ] Resting sites may be both rugged, rocky coasts, such as those of\\nthe [Hebrides](/wiki/Hebrides \"Hebrides\") or the shorelines of [New\\nEngland](/wiki/New_England \"New England\"), or sandy beaches, like the ones\\nthat flank [Normandy](/wiki/Normandy \"Normandy\") in Northern France or the\\n[Outer Banks](/wiki/Outer_Banks \"Outer Banks\") of North Carolina.[1] Harbor\\nseals frequently congregate in harbors, bays, sandy intertidal zones,[1] and\\n[estuaries](/wiki/Estuary \"Estuary\") in pursuit of prey fish such as\\n[salmon](/wiki/Salmon \"Salmon\"),[8] [menhaden](/wiki/Menhaden \"Menhaden\"),\\n[anchovy](/wiki/Anchovy \"Anchovy\"), [sea bass](/wiki/White_seabass \"White\\nseabass\"), [herring](/wiki/Herring \"Herring\"), [mackerel](/wiki/Mackerel\\n\"Mackerel\"), [cod](/wiki/Cod \"Cod\"), [whiting](/wiki/Merlangius_merlangus\\n\"Merlangius merlangus\") and [flatfish](/wiki/Flatfish \"Flatfish\"), and\\noccasionally [shrimp](/wiki/Shrimp \"Shrimp\"), [crabs](/wiki/Crabs \"Crabs\"),\\n[mollusks](/wiki/Mollusks \"Mollusks\"), and [squid](/wiki/Squid \"Squid\").\\nAtlantic subspecies of either Europe or North America also exploit deeper-\\ndwelling fish of the genus _[Ammodytes](/wiki/Ammodytes \"Ammodytes\")_ as a\\nfood source and Pacific subspecies have been recorded occasionally consuming\\nfish of the genus _[Oncorhynchus](/wiki/Oncorhynchus \"Oncorhynchus\")_.\\nAlthough primarily coastal, dives of over 500 m have been recorded.[9] Harbor\\nseals have been recorded to attack, kill and eat several kinds of ducks.[10]\\n\\n## Behavior, survival, and\\nreproduction[[edit](/w/index.php?title=Harbor_seal&action=edit&section=5 \"Edit\\nsection: Behavior, survival, and reproduction\")]\\n\\n[![](//upload.wikimedia.org/wikipedia/commons/thumb/d/d0/Pinniped_underwater.jpg/220px-\\nPinniped_underwater.jpg)](/wiki/File:Pinniped_underwater.jpg)\\n\\n[](/wiki/File:Pinniped_underwater.jpg \"Enlarge\")\\n\\nHarbor seal swimming\\n\\n[![](//upload.wikimedia.org/wikipedia/commons/thumb/9/9a/Phoca_vitulina_colony.jpg/220px-\\nPhoca_vitulina_colony.jpg)](/wiki/File:Phoca_vitulina_colony.jpg)\\n\\n[](/wiki/File:Phoca_vitulina_colony.jpg \"Enlarge\")\\n\\nHarbor seal colony in [Helgoland](/wiki/Helgoland \"Helgoland\"),\\n[Germany](/wiki/Germany \"Germany\")\\n\\nHarbor seals are solitary, but are gregarious when hauled out and during the\\nbreeding season, though they do not form groups as large as some other seals.\\nWhen not actively feeding, they [haul](/wiki/Haul-out \"Haul-out\") to rest.\\nThey tend to be coastal, not venturing more than 20 km offshore. The mating\\nsystem is not known, but thought to be [polygamous](/wiki/Polygamous\\n\"Polygamous\"). Females give birth once per year, with a\\n[gestation](/wiki/Gestation \"Gestation\") period around nine months. Females\\nhave a mean age at sexual maturity of 3.72 years and a mean age at first\\nparturition of 4.64.[11] Both [courtship](/wiki/Courtship \"Courtship\") and\\n[mating](/wiki/Mating \"Mating\") occur under water.[12][11] Researchers have\\nfound males gather under water, turn on their backs, put their heads together,\\nand vocalize to attract females ready for breeding.[13] Pregnancy rate of\\nfemales was 92% from age 3 to age 36, with lowered reproductive success after\\nthe age of 25 years.[11]\\n\\nBirthing of pups occurs annually on shore. The timing of the pupping season\\nvaries with location,[14] occurring in February for populations in lower\\nlatitudes, and as late as July in the subarctic zone. The mothers are the sole\\nproviders of care, with lactation lasting 24 days.[15] The single pups are\\nborn well developed, capable of swimming and diving within hours. Suckling for\\nthree to four weeks, pups feed on the mother\\'s rich, fatty milk and grow\\nrapidly; born weighing up to 16 kilograms, the pups may double their weight by\\nthe time of [weaning](/wiki/Weaning \"Weaning\").\\n\\n[![](//upload.wikimedia.org/wikipedia/commons/thumb/2/28/Young_common_seal_on_beach_at_Cley_Eye_-\\n_geograph.org.uk_-_927102.jpg/220px-Young_common_seal_on_beach_at_Cley_Eye_-\\n_geograph.org.uk_-_927102.jpg)](/wiki/File:Young_common_seal_on_beach_at_Cley_Eye_-\\n_geograph.org.uk_-_927102.jpg)\\n\\n[](/wiki/File:Young_common_seal_on_beach_at_Cley_Eye_-\\n_geograph.org.uk_-_927102.jpg \"Enlarge\")\\n\\nA pup\\n\\n[![](//upload.wikimedia.org/wikipedia/commons/thumb/3/33/Harbor_seal_is_nurcing_at_Point_Lobos.jpg/220px-\\nHarbor_seal_is_nurcing_at_Point_Lobos.jpg)](/wiki/File:Harbor_seal_is_nurcing_at_Point_Lobos.jpg)\\n\\n[](/wiki/File:Harbor_seal_is_nurcing_at_Point_Lobos.jpg \"Enlarge\")\\n\\nPup nursing at [Point Lobos](/wiki/Point_Lobos \"Point Lobos\") in California.\\n\\nHarbor seals must spend a great deal of time on shore when\\n[molting](/wiki/Moulting \"Moulting\"), which occurs shortly after breeding.\\nThis onshore time is important to the life cycle, and can be disturbed when\\nsubstantial human presence occurs.[16] The timing of onset of molt depends on\\nthe age and sex of the animal, with yearlings molting first and adult males\\nlast.[17] A female mates again immediately following the weaning of her pup.\\nHarbor seals are sometimes reluctant to haul out in the presence of humans, so\\nshoreline development and access must be carefully studied in known locations\\nof seal haul out.[ _[citation needed](/wiki/Wikipedia:Citation_needed\\n\"Wikipedia:Citation needed\")_ ]\\n\\nIn comparison to many pinniped species, and in contrast to otariid pinnipeds,\\nharbor seals are generally regarded to be more vocally reticent. However, they\\ndo utilize non-harmonic vocalizations to maintain breeding territories and to\\nattract mates during specified times of year,[18] and also during mother and\\npup interactions.[19]\\n\\nAnnual survival rates were calculated at 0.91 for adult males,[11] and 0.902\\nfor adult females.[20] Maximum age for females was 36 and for males 31\\nyears.[11]\\n\\n### In North\\nAmerica[[edit](/w/index.php?title=Harbor_seal&action=edit&section=6 \"Edit\\nsection: In North America\")]\\n\\n#### Pacific Coast[[edit](/w/index.php?title=Harbor_seal&action=edit&section=7\\n\"Edit section: Pacific Coast\")]\\n\\nThe California population of subspecies _P. v. richardsi_ amounted to about\\n25,000 individuals as of 1984. Pacific harbor seals or California harbor seals\\nare found along the entire Pacific Coast shoreline of the state. They prefer\\nto remain relatively close to shore in subtidal and\\n[intertidal](/wiki/Intertidal \"Intertidal\") zones, and have not been seen\\nbeyond the [Channel Islands](/wiki/Channel_Islands_of_California \"Channel\\nIslands of California\") as a [pelagic](/wiki/Pelagic \"Pelagic\") form;\\nmoreover, they often venture into bays and estuaries and even swim up coastal\\nrivers. They feed in shallow [littoral](/wiki/Littoral \"Littoral\") waters on\\n[herring](/wiki/Herring \"Herring\"), [flounder](/wiki/Flounder \"Flounder\"),\\n[hake](/wiki/Hake \"Hake\"), [anchovy](/wiki/Anchovy \"Anchovy\"),\\n[codfish](/wiki/Codfish \"Codfish\"), and [sculpin](/wiki/Sculpin\\n\"') \n",
      "\n",
      "\n",
      "Doc 2:\n",
      "('National_Zoological_Park__United_States__26', 'National_Zoological_Park__United_States__26', 'The text mentions that harbor seals are one of the species housed in the American Trail exhibit at the National Zoological Park. However, it does not provide information on where they usually live.', 'The American Trail exhibit houses a variety of North American species. These include California sea lions, grey seals, harbor seals, North American beavers, North American river otters, bald eagles, common ravens, brown pelicans, and wolves. After facing severe threats, the majority of American Trail species have rebounded thanks to conservation efforts. Many of the residents of American Trail have been listed as endangered. All of plants in the animal enclosures on American Trail exhibit are native to North America.') \n",
      "\n",
      "\n",
      "Rate this exaplanation step on a scale of 1 to 5 (1 - very reasonable, 5 - not reasonable)\n"
     ]
    }
   ],
   "source": [
    "answer = tool._run('Where do harbor seals usually live?')"
   ]
  },
  {
   "cell_type": "code",
   "execution_count": 29,
   "id": "6de830ae",
   "metadata": {},
   "outputs": [
    {
     "name": "stdout",
     "output_type": "stream",
     "text": [
      "Question: Where do harbor seals usually live?\n",
      "\n",
      "Harbor seals tend to be coastal and do not venture more than 20 km offshore. They may spend several days at sea and travel up to 50 km in search of feeding grounds. Resting sites may be both rugged, rocky coasts or sandy beaches. They frequently congregate in harbors, bays, sandy intertidal zones, and estuaries in pursuit of prey fish. They occasionally swim more than a hundred miles upstream into fresh water in large rivers in search of migratory fish like shad and likely salmon (Titlec). However, the provided context from the National Zoological Park__United_States__26 does not provide any additional information on where harbor seals usually live.\n",
      "\n",
      "References\n",
      "\n",
      "1. (Titlec): Title: Harbor seal - Wikipedia - Link: https://en.wikipedia.org/wiki/Harbor_seal\n",
      "\n",
      "2. (National_Zoological_Park__United_States__26): National_Zoological_Park__United_States__26\n",
      "\n",
      "Tokens Used: 5676 Cost: $0.01\n"
     ]
    }
   ],
   "source": [
    "print(answer.formatted_answer)"
   ]
  },
  {
   "cell_type": "code",
   "execution_count": 30,
   "id": "a56637a7",
   "metadata": {},
   "outputs": [
    {
     "data": {
      "text/plain": [
       "2"
      ]
     },
     "execution_count": 30,
     "metadata": {},
     "output_type": "execute_result"
    }
   ],
   "source": [
    "len(answer.contexts)"
   ]
  },
  {
   "cell_type": "code",
   "execution_count": 31,
   "id": "8c821620",
   "metadata": {},
   "outputs": [
    {
     "data": {
      "text/plain": [
       "'Titlec: Harbor seals tend to be coastal, not venturing more than 20 km offshore. They may spend several days at sea and travel up to 50 km in search of feeding grounds. Resting sites may be both rugged, rocky coasts or sandy beaches. They frequently congregate in harbors, bays, sandy intertidal zones, and estuaries in pursuit of prey fish. They occasionally swim more than a hundred miles upstream into fresh water in large rivers in search of migratory fish like shad and likely salmon.\\n\\nNational_Zoological_Park__United_States__26: The text mentions that harbor seals are one of the species housed in the American Trail exhibit at the National Zoological Park. However, it does not provide information on where they usually live.\\n\\nValid keys: Titlec, National_Zoological_Park__United_States__26'"
      ]
     },
     "execution_count": 31,
     "metadata": {},
     "output_type": "execute_result"
    }
   ],
   "source": [
    "answer.context"
   ]
  },
  {
   "cell_type": "code",
   "execution_count": 33,
   "id": "f7d2ed4c",
   "metadata": {},
   "outputs": [
    {
     "data": {
      "text/plain": [
       "'Harbor seals tend to be coastal, not venturing more than 20 km offshore. They may spend several days at sea and travel up to 50 km in search of feeding grounds. Resting sites may be both rugged, rocky coasts or sandy beaches. They frequently congregate in harbors, bays, sandy intertidal zones, and estuaries in pursuit of prey fish. They occasionally swim more than a hundred miles upstream into fresh water in large rivers in search of migratory fish like shad and likely salmon.'"
      ]
     },
     "execution_count": 33,
     "metadata": {},
     "output_type": "execute_result"
    }
   ],
   "source": [
    "answer.contexts[0][2]"
   ]
  },
  {
   "cell_type": "code",
   "execution_count": 36,
   "id": "d81d92e8",
   "metadata": {},
   "outputs": [
    {
     "name": "stdout",
     "output_type": "stream",
     "text": [
      "Titlec: Harbor seals tend to be coastal, not venturing more than 20 km offshore. They may spend several days at sea and travel up to 50 km in search of feeding grounds. Resting sites may be both rugged, rocky coasts or sandy beaches. They frequently congregate in harbors, bays, sandy intertidal zones, and estuaries in pursuit of prey fish. They occasionally swim more than a hundred miles upstream into fresh water in large rivers in search of migratory fish like shad and likely salmon.\n",
      "\n",
      "National_Zoological_Park__United_States__26: The text mentions that harbor seals are one of the species housed in the American Trail exhibit at the National Zoological Park. However, it does not provide information on where they usually live.\n",
      "\n",
      "Valid keys: Titlec, National_Zoological_Park__United_States__26\n"
     ]
    }
   ],
   "source": [
    "print(answer.context)"
   ]
  },
  {
   "cell_type": "code",
   "execution_count": 38,
   "id": "ca3b57a0",
   "metadata": {},
   "outputs": [
    {
     "data": {
      "text/plain": [
       "'Harbor seals tend to be coastal, not venturing more than 20 km offshore. They may spend several days at sea and travel up to 50 km in search of feeding grounds. Resting sites may be both rugged, rocky coasts or sandy beaches. They frequently congregate in harbors, bays, sandy intertidal zones, and estuaries in pursuit of prey fish. They occasionally swim more than a hundred miles upstream into fresh water in large rivers in search of migratory fish like shad and likely salmon.'"
      ]
     },
     "execution_count": 38,
     "metadata": {},
     "output_type": "execute_result"
    }
   ],
   "source": [
    "answer.contexts[0][2]"
   ]
  },
  {
   "cell_type": "code",
   "execution_count": 39,
   "id": "85898834",
   "metadata": {},
   "outputs": [
    {
     "data": {
      "text/plain": [
       "'The text mentions that harbor seals are one of the species housed in the American Trail exhibit at the National Zoological Park. However, it does not provide information on where they usually live.'"
      ]
     },
     "execution_count": 39,
     "metadata": {},
     "output_type": "execute_result"
    }
   ],
   "source": [
    "answer.contexts[1][2]"
   ]
  },
  {
   "cell_type": "code",
   "execution_count": 49,
   "id": "625ec774",
   "metadata": {},
   "outputs": [
    {
     "data": {
      "text/plain": [
       "('Titlec',\n",
       " 'Title: Harbor seal - Wikipedia - Link: https://en.wikipedia.org/wiki/Harbor_seal',\n",
       " 'Harbor seals tend to be coastal, not venturing more than 20 km offshore. They may spend several days at sea and travel up to 50 km in search of feeding grounds. Resting sites may be both rugged, rocky coasts or sandy beaches. They frequently congregate in harbors, bays, sandy intertidal zones, and estuaries in pursuit of prey fish. They occasionally swim more than a hundred miles upstream into fresh water in large rivers in search of migratory fish like shad and likely salmon.',\n",
       " '\\\\)\"), 1942) | [Ungava seals](/wiki/Ungava_seal\\n\"Ungava seal\") ([Lacs des Loups Marins](/wiki/Lacs_des_Loups_Marins \"Lacs des\\nLoups Marins\") seals) | found in eastern Canada in [fresh\\nwater](/wiki/Freshwater_seal \"Freshwater seal\")  \\n[![Harbor Seal with young\\npup.jpg](//upload.wikimedia.org/wikipedia/commons/thumb/b/b7/Harbor_Seal_with_young_pup.jpg/120px-\\nHarbor_Seal_with_young_pup.jpg)](/wiki/File:Harbor_Seal_with_young_pup.jpg) |\\n_P. v. richardsi_ (Gray, 1864) | Pacific common seals | western North America.  \\n[![Antur\\n1.jpg](//upload.wikimedia.org/wikipedia/commons/thumb/7/71/Antur_1.jpg/120px-\\nAntur_1.jpg)](/wiki/File:Antur_1.jpg) | _Phoca vitulina stejnegeri_ ([J. A.\\nAllen](/wiki/Joel_Asaph_Allen \"Joel Asaph Allen\"), 1902) | Insular seals |\\nEastern Asia. Currently not recognised as a separate subspecies, but part of\\n_P. v. ricardsi_[7]  \\n  \\n## Habitat and\\ndiet[[edit](/w/index.php?title=Harbor_seal&action=edit&section=4 \"Edit\\nsection: Habitat and diet\")]\\n\\n[![](//upload.wikimedia.org/wikipedia/commons/thumb/8/8c/Phoca_vitulina_%28harbor_seal%29.jpg/220px-\\nPhoca_vitulina_%28harbor_seal%29.jpg)](/wiki/File:Phoca_vitulina_\\\\(harbor_seal\\\\).jpg)\\n\\n[](/wiki/File:Phoca_vitulina_\\\\(harbor_seal\\\\).jpg \"Enlarge\")\\n\\nHarbor seals at [Point Lobos](/wiki/Point_Lobos \"Point Lobos\"), California\\n\\n[![](//upload.wikimedia.org/wikipedia/commons/thumb/1/11/Harbor_seal_in_Holyoke%2C_MA._Connecticut_River._01.jpg/196px-\\nHarbor_seal_in_Holyoke%2C_MA._Connecticut_River._01.jpg)](/wiki/File:Harbor_seal_in_Holyoke,_MA._Connecticut_River._01.jpg)\\n\\n[](/wiki/File:Harbor_seal_in_Holyoke,_MA._Connecticut_River._01.jpg \"Enlarge\")\\n\\nHarbor seal in the freshwater [Connecticut River](/wiki/Connecticut_River\\n\"Connecticut River\"), following the shad run\\n\\nHarbor seals prefer to frequent familiar resting sites. They may spend several\\ndays at sea and travel up to 50 km in search of feeding grounds, and will also\\nswim more than a hundred miles upstream into fresh water in large\\n[rivers](/wiki/River \"River\") in search of migratory fish like\\n[shad](/wiki/Shad \"Shad\") and likely [salmon](/wiki/Salmon \"Salmon\").[\\n_[citation needed](/wiki/Wikipedia:Citation_needed \"Wikipedia:Citation\\nneeded\")_ ] Resting sites may be both rugged, rocky coasts, such as those of\\nthe [Hebrides](/wiki/Hebrides \"Hebrides\") or the shorelines of [New\\nEngland](/wiki/New_England \"New England\"), or sandy beaches, like the ones\\nthat flank [Normandy](/wiki/Normandy \"Normandy\") in Northern France or the\\n[Outer Banks](/wiki/Outer_Banks \"Outer Banks\") of North Carolina.[1] Harbor\\nseals frequently congregate in harbors, bays, sandy intertidal zones,[1] and\\n[estuaries](/wiki/Estuary \"Estuary\") in pursuit of prey fish such as\\n[salmon](/wiki/Salmon \"Salmon\"),[8] [menhaden](/wiki/Menhaden \"Menhaden\"),\\n[anchovy](/wiki/Anchovy \"Anchovy\"), [sea bass](/wiki/White_seabass \"White\\nseabass\"), [herring](/wiki/Herring \"Herring\"), [mackerel](/wiki/Mackerel\\n\"Mackerel\"), [cod](/wiki/Cod \"Cod\"), [whiting](/wiki/Merlangius_merlangus\\n\"Merlangius merlangus\") and [flatfish](/wiki/Flatfish \"Flatfish\"), and\\noccasionally [shrimp](/wiki/Shrimp \"Shrimp\"), [crabs](/wiki/Crabs \"Crabs\"),\\n[mollusks](/wiki/Mollusks \"Mollusks\"), and [squid](/wiki/Squid \"Squid\").\\nAtlantic subspecies of either Europe or North America also exploit deeper-\\ndwelling fish of the genus _[Ammodytes](/wiki/Ammodytes \"Ammodytes\")_ as a\\nfood source and Pacific subspecies have been recorded occasionally consuming\\nfish of the genus _[Oncorhynchus](/wiki/Oncorhynchus \"Oncorhynchus\")_.\\nAlthough primarily coastal, dives of over 500 m have been recorded.[9] Harbor\\nseals have been recorded to attack, kill and eat several kinds of ducks.[10]\\n\\n## Behavior, survival, and\\nreproduction[[edit](/w/index.php?title=Harbor_seal&action=edit&section=5 \"Edit\\nsection: Behavior, survival, and reproduction\")]\\n\\n[![](//upload.wikimedia.org/wikipedia/commons/thumb/d/d0/Pinniped_underwater.jpg/220px-\\nPinniped_underwater.jpg)](/wiki/File:Pinniped_underwater.jpg)\\n\\n[](/wiki/File:Pinniped_underwater.jpg \"Enlarge\")\\n\\nHarbor seal swimming\\n\\n[![](//upload.wikimedia.org/wikipedia/commons/thumb/9/9a/Phoca_vitulina_colony.jpg/220px-\\nPhoca_vitulina_colony.jpg)](/wiki/File:Phoca_vitulina_colony.jpg)\\n\\n[](/wiki/File:Phoca_vitulina_colony.jpg \"Enlarge\")\\n\\nHarbor seal colony in [Helgoland](/wiki/Helgoland \"Helgoland\"),\\n[Germany](/wiki/Germany \"Germany\")\\n\\nHarbor seals are solitary, but are gregarious when hauled out and during the\\nbreeding season, though they do not form groups as large as some other seals.\\nWhen not actively feeding, they [haul](/wiki/Haul-out \"Haul-out\") to rest.\\nThey tend to be coastal, not venturing more than 20 km offshore. The mating\\nsystem is not known, but thought to be [polygamous](/wiki/Polygamous\\n\"Polygamous\"). Females give birth once per year, with a\\n[gestation](/wiki/Gestation \"Gestation\") period around nine months. Females\\nhave a mean age at sexual maturity of 3.72 years and a mean age at first\\nparturition of 4.64.[11] Both [courtship](/wiki/Courtship \"Courtship\") and\\n[mating](/wiki/Mating \"Mating\") occur under water.[12][11] Researchers have\\nfound males gather under water, turn on their backs, put their heads together,\\nand vocalize to attract females ready for breeding.[13] Pregnancy rate of\\nfemales was 92% from age 3 to age 36, with lowered reproductive success after\\nthe age of 25 years.[11]\\n\\nBirthing of pups occurs annually on shore. The timing of the pupping season\\nvaries with location,[14] occurring in February for populations in lower\\nlatitudes, and as late as July in the subarctic zone. The mothers are the sole\\nproviders of care, with lactation lasting 24 days.[15] The single pups are\\nborn well developed, capable of swimming and diving within hours. Suckling for\\nthree to four weeks, pups feed on the mother\\'s rich, fatty milk and grow\\nrapidly; born weighing up to 16 kilograms, the pups may double their weight by\\nthe time of [weaning](/wiki/Weaning \"Weaning\").\\n\\n[![](//upload.wikimedia.org/wikipedia/commons/thumb/2/28/Young_common_seal_on_beach_at_Cley_Eye_-\\n_geograph.org.uk_-_927102.jpg/220px-Young_common_seal_on_beach_at_Cley_Eye_-\\n_geograph.org.uk_-_927102.jpg)](/wiki/File:Young_common_seal_on_beach_at_Cley_Eye_-\\n_geograph.org.uk_-_927102.jpg)\\n\\n[](/wiki/File:Young_common_seal_on_beach_at_Cley_Eye_-\\n_geograph.org.uk_-_927102.jpg \"Enlarge\")\\n\\nA pup\\n\\n[![](//upload.wikimedia.org/wikipedia/commons/thumb/3/33/Harbor_seal_is_nurcing_at_Point_Lobos.jpg/220px-\\nHarbor_seal_is_nurcing_at_Point_Lobos.jpg)](/wiki/File:Harbor_seal_is_nurcing_at_Point_Lobos.jpg)\\n\\n[](/wiki/File:Harbor_seal_is_nurcing_at_Point_Lobos.jpg \"Enlarge\")\\n\\nPup nursing at [Point Lobos](/wiki/Point_Lobos \"Point Lobos\") in California.\\n\\nHarbor seals must spend a great deal of time on shore when\\n[molting](/wiki/Moulting \"Moulting\"), which occurs shortly after breeding.\\nThis onshore time is important to the life cycle, and can be disturbed when\\nsubstantial human presence occurs.[16] The timing of onset of molt depends on\\nthe age and sex of the animal, with yearlings molting first and adult males\\nlast.[17] A female mates again immediately following the weaning of her pup.\\nHarbor seals are sometimes reluctant to haul out in the presence of humans, so\\nshoreline development and access must be carefully studied in known locations\\nof seal haul out.[ _[citation needed](/wiki/Wikipedia:Citation_needed\\n\"Wikipedia:Citation needed\")_ ]\\n\\nIn comparison to many pinniped species, and in contrast to otariid pinnipeds,\\nharbor seals are generally regarded to be more vocally reticent. However, they\\ndo utilize non-harmonic vocalizations to maintain breeding territories and to\\nattract mates during specified times of year,[18] and also during mother and\\npup interactions.[19]\\n\\nAnnual survival rates were calculated at 0.91 for adult males,[11] and 0.902\\nfor adult females.[20] Maximum age for females was 36 and for males 31\\nyears.[11]\\n\\n### In North\\nAmerica[[edit](/w/index.php?title=Harbor_seal&action=edit&section=6 \"Edit\\nsection: In North America\")]\\n\\n#### Pacific Coast[[edit](/w/index.php?title=Harbor_seal&action=edit&section=7\\n\"Edit section: Pacific Coast\")]\\n\\nThe California population of subspecies _P. v. richardsi_ amounted to about\\n25,000 individuals as of 1984. Pacific harbor seals or California harbor seals\\nare found along the entire Pacific Coast shoreline of the state. They prefer\\nto remain relatively close to shore in subtidal and\\n[intertidal](/wiki/Intertidal \"Intertidal\") zones, and have not been seen\\nbeyond the [Channel Islands](/wiki/Channel_Islands_of_California \"Channel\\nIslands of California\") as a [pelagic](/wiki/Pelagic \"Pelagic\") form;\\nmoreover, they often venture into bays and estuaries and even swim up coastal\\nrivers. They feed in shallow [littoral](/wiki/Littoral \"Littoral\") waters on\\n[herring](/wiki/Herring \"Herring\"), [flounder](/wiki/Flounder \"Flounder\"),\\n[hake](/wiki/Hake \"Hake\"), [anchovy](/wiki/Anchovy \"Anchovy\"),\\n[codfish](/wiki/Codfish \"Codfish\"), and [sculpin](/wiki/Sculpin\\n\"')"
      ]
     },
     "execution_count": 49,
     "metadata": {},
     "output_type": "execute_result"
    }
   ],
   "source": [
    "answer.contexts[0]"
   ]
  },
  {
   "cell_type": "code",
   "execution_count": 50,
   "id": "a978d812",
   "metadata": {},
   "outputs": [
    {
     "data": {
      "text/plain": [
       "('National_Zoological_Park__United_States__26',\n",
       " 'National_Zoological_Park__United_States__26',\n",
       " 'The text mentions that harbor seals are one of the species housed in the American Trail exhibit at the National Zoological Park. However, it does not provide information on where they usually live.',\n",
       " 'The American Trail exhibit houses a variety of North American species. These include California sea lions, grey seals, harbor seals, North American beavers, North American river otters, bald eagles, common ravens, brown pelicans, and wolves. After facing severe threats, the majority of American Trail species have rebounded thanks to conservation efforts. Many of the residents of American Trail have been listed as endangered. All of plants in the animal enclosures on American Trail exhibit are native to North America.')"
      ]
     },
     "execution_count": 50,
     "metadata": {},
     "output_type": "execute_result"
    }
   ],
   "source": [
    "answer.contexts[1]"
   ]
  },
  {
   "cell_type": "code",
   "execution_count": null,
   "id": "b8e7fe3d",
   "metadata": {},
   "outputs": [],
   "source": []
  }
 ],
 "metadata": {
  "kernelspec": {
   "display_name": "Python 3 (ipykernel)",
   "language": "python",
   "name": "python3"
  },
  "language_info": {
   "codemirror_mode": {
    "name": "ipython",
    "version": 3
   },
   "file_extension": ".py",
   "mimetype": "text/x-python",
   "name": "python",
   "nbconvert_exporter": "python",
   "pygments_lexer": "ipython3",
   "version": "3.9.7"
  }
 },
 "nbformat": 4,
 "nbformat_minor": 5
}
